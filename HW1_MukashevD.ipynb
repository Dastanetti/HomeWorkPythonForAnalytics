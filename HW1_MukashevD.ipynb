{
  "cells": [
    {
      "cell_type": "markdown",
      "metadata": {
        "id": "4TmQNhOepVCM"
      },
      "source": [
        "## Задача 1\n",
        "### Оформляйте ноутбук, используя эти советы:\n",
        "\n",
        "Номер задачи - заголовок 2\n",
        "\n",
        "Номер подзадачи - заголовок 3\n",
        "\n",
        "Предоставленные наборы данных оформляйте, как код"
      ]
    },
    {
      "cell_type": "markdown",
      "metadata": {
        "id": "tnpQeK80Pxmq"
      },
      "source": [
        "## Условие 2:\n",
        "### На складе лежат разные фрукты в разном количестве.\n",
        "### Нужно написать функцию, которая на вход принимает любое количество названий фруктов и их количество, а возвращает общее количество фруктов на складе"
      ]
    },
    {
      "cell_type": "code",
      "execution_count": 14,
      "metadata": {
        "id": "UGm1VVxcP6Ko"
      },
      "outputs": [],
      "source": [
        "def fruit_basket(**kwargs):\n",
        "    {print(f\"Наименование: {name} штук {values}\")\n",
        "     for name, values in kwargs.items()}\n",
        "    return print(f'Суммарное количество: {sum(kwargs.values())}')"
      ]
    },
    {
      "cell_type": "code",
      "execution_count": 15,
      "metadata": {
        "colab": {
          "base_uri": "https://localhost:8080/"
        },
        "id": "0HgAH9dVU91Q",
        "outputId": "8d7a30c1-e71a-4064-96c7-cf9b7c8ba141"
      },
      "outputs": [
        {
          "name": "stdout",
          "output_type": "stream",
          "text": [
            "Наименование: apple штук 8\n",
            "Наименование: grapefruits штук 7\n",
            "Наименование: melon штук 10\n",
            "Суммарное количество: 25\n"
          ]
        }
      ],
      "source": [
        "fruit_basket(\n",
        "    apple = 8,\n",
        "    grapefruits = 7,\n",
        "    melon = 10\n",
        ")"
      ]
    },
    {
      "cell_type": "markdown",
      "metadata": {
        "id": "-T1ds__GXguh"
      },
      "source": [
        "## Условие 3:\n",
        "### Дан список с затратами на рекламу. Но в данных есть ошибки, некоторые затраты имеют отрицательную величину. Удалите такие значения из списка и посчитайте суммарные затраты\n",
        "[100, 125, -90, 345, 655, -1, 0, 200]\n",
        "### Используйте list comprehensions"
      ]
    },
    {
      "cell_type": "code",
      "execution_count": 8,
      "metadata": {
        "id": "1SzoE24WiclI"
      },
      "outputs": [],
      "source": [
        "def расходы(data: list):\n",
        "\n",
        "    new_data = []\n",
        "\n",
        "    for i in data:\n",
        "        if i > 0:\n",
        "            new_data.append(i)\n",
        "\n",
        "    print(new_data)\n",
        "    print(f'Общие расходы: {sum(new_data)}')"
      ]
    },
    {
      "cell_type": "code",
      "execution_count": 16,
      "metadata": {
        "colab": {
          "base_uri": "https://localhost:8080/"
        },
        "id": "owCHKucXiz23",
        "outputId": "383467f2-9c62-491b-b785-a0739db7a5a5"
      },
      "outputs": [
        {
          "name": "stdout",
          "output_type": "stream",
          "text": [
            "[100, 125, 345, 655, 200]\n",
            "Общие расходы: 1425\n"
          ]
        }
      ],
      "source": [
        "data = [100, 125, -90, 345, 655, -1, 0, 200]\n",
        "\n",
        "расходы(data)"
      ]
    },
    {
      "cell_type": "code",
      "execution_count": 10,
      "metadata": {
        "colab": {
          "base_uri": "https://localhost:8080/"
        },
        "id": "CCpViiwfi-_A",
        "outputId": "44fad7df-7560-40d3-bce3-038d898a716d"
      },
      "outputs": [
        {
          "name": "stdout",
          "output_type": "stream",
          "text": [
            "Общие расходы: 1425\n"
          ]
        }
      ],
      "source": [
        "print(f'Общие расходы: {sum([i for i in data if i > 0 ])}')"
      ]
    },
    {
      "cell_type": "markdown",
      "metadata": {
        "id": "SuRKLJHflGwI"
      },
      "source": [
        "## Задача 4\n",
        "### Даны два списка.\n",
        "### Дата покупки\n",
        "['2021-09-14', '2021-12-15', '2021-09-08', '2021-12-05', '2021-10-09', '2021-09-30', '2021-12-22', '2021-11-29', '2021-12-24', '2021-11-26', '2021-10-27', '2021-12-18', '2021-11-09', '2021-11-23', '2021-09-27', '2021-10-02', '2021-12-27', '2021-09-20', '2021-12-13', '2021-11-01', '2021-11-09', '2021-12-06', '2021-12-08', '2021-10-09', '2021-10-31', '2021-09-30', '2021-11-09', '2021-12-13', '2021-10-26', '2021-12-09']\n",
        "### Суммы покупок по датам\n",
        "[1270, 8413, 9028, 3703, 5739, 4095, 295, 4944, 5723, 3701, 4471, 651, 7037, 4274, 6275, 4988, 6930, 2971, 6592, 2004, 2822, 519, 3406, 2732, 5015, 2008, 316, 6333, 5700, 2887]"
      ]
    },
    {
      "cell_type": "markdown",
      "metadata": {
        "id": "KUKKyTpsmqV_"
      },
      "source": [
        "### Задача 4.1\n",
        "#### Найдите, какая выручка у компании в ноябре\n",
        "#### Используйте list comprehensions"
      ]
    },
    {
      "cell_type": "code",
      "execution_count": 11,
      "metadata": {
        "id": "nIrmnGSJmwH_"
      },
      "outputs": [],
      "source": [
        "date = ['2021-09-14', '2021-12-15', '2021-09-08', '2021-12-05', '2021-10-09',\n",
        "        '2021-09-30', '2021-12-22', '2021-11-29', '2021-12-24', '2021-11-26',\n",
        "        '2021-10-27', '2021-12-18', '2021-11-09', '2021-11-23', '2021-09-27',\n",
        "        '2021-10-02', '2021-12-27', '2021-09-20', '2021-12-13', '2021-11-01',\n",
        "        '2021-11-09', '2021-12-06', '2021-12-08', '2021-10-09', '2021-10-31',\n",
        "        '2021-09-30', '2021-11-09', '2021-12-13', '2021-10-26', '2021-12-09']\n",
        "cost = [1270, 8413, 9028, 3703, 5739, 4095, 295, 4944, 5723, 3701,\n",
        "        4471, 651, 7037, 4274, 6275, 4988, 6930, 2971, 6592, 2004,\n",
        "        2822, 519, 3406, 2732, 5015, 2008, 316, 6333, 5700, 2887]"
      ]
    },
    {
      "cell_type": "code",
      "execution_count": 12,
      "metadata": {
        "id": "5_QyssPRm3_G"
      },
      "outputs": [],
      "source": [
        "def ноябрь(data1: list, data2: list) -> list:\n",
        "\n",
        "    newest_data = []\n",
        "\n",
        "    for i in range(len(data1)-1):\n",
        "        if '-11-' in data1[i]:\n",
        "            newest_data.append(data2[i])\n",
        "\n",
        "    return newest_data"
      ]
    },
    {
      "cell_type": "code",
      "execution_count": 13,
      "metadata": {
        "colab": {
          "base_uri": "https://localhost:8080/"
        },
        "id": "p4r46elWn1wi",
        "outputId": "a1486cb8-abab-41a9-efc2-2097f7658ef8"
      },
      "outputs": [
        {
          "name": "stdout",
          "output_type": "stream",
          "text": [
            "[4944, 3701, 7037, 4274, 2004, 2822, 316]\n",
            "Выручка: 25098\n"
          ]
        }
      ],
      "source": [
        "print([cost[i] for i in range(0, len(date)-1) if \"-11\" in date[i]])\n",
        "print(f'Выручка: {sum([cost[i] for i in range(len(date)-1) if \"-11\" in date[i]])}')"
      ]
    },
    {
      "cell_type": "markdown",
      "metadata": {
        "id": "Bt4Qf6I9oTG4"
      },
      "source": [
        "### Задача 4.2\n",
        "#### Найдите выручку компании в зависимости от месяца\n",
        "#### Для этого напишите функцию, которая на вход принимает список с датами и список с выручкой, а на выходе словарь, где ключи - это месяцы, а значения - это выручка.\n",
        "#### Используйте аннотирование типов."
      ]
    },
    {
      "cell_type": "code",
      "execution_count": 30,
      "metadata": {
        "colab": {
          "base_uri": "https://localhost:8080/"
        },
        "id": "XOBzncItogVQ",
        "outputId": "773581ff-8e04-4f2a-a7ec-53faf2a15e5d"
      },
      "outputs": [
        {
          "name": "stdout",
          "output_type": "stream",
          "text": [
            "{'09': 25647, '12': 45452, '10': 28645, '11': 25098}\n"
          ]
        }
      ],
      "source": [
        "def Выручка(data1: list, data2: list) -> dict:\n",
        "\n",
        "    Выручка = {}\n",
        "\n",
        "    for i in range(len(data1)):\n",
        "\n",
        "        if date[i].split('-')[1] in Выручка.keys():\n",
        "            Выручка[date[i].split('-')[1]] += cost[i]\n",
        "        else:\n",
        "            Выручка[date[i].split('-')[1]] = cost[i]\n",
        "\n",
        "    return Выручка\n",
        "\n",
        "print(Выручка(date, cost))\n"
      ]
    }
  ],
  "metadata": {
    "colab": {
      "provenance": []
    },
    "kernelspec": {
      "display_name": "Python 3.10.10 64-bit (microsoft store)",
      "language": "python",
      "name": "python3"
    },
    "language_info": {
      "codemirror_mode": {
        "name": "ipython",
        "version": 3
      },
      "file_extension": ".py",
      "mimetype": "text/x-python",
      "name": "python",
      "nbconvert_exporter": "python",
      "pygments_lexer": "ipython3",
      "version": "3.10.10"
    },
    "vscode": {
      "interpreter": {
        "hash": "3b7e9cb8e453d6cda0fe8c8dd13f891a1f09162f0e7c66ffeae7751a7aecf00d"
      }
    }
  },
  "nbformat": 4,
  "nbformat_minor": 0
}
